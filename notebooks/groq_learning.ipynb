{
 "cells": [
  {
   "cell_type": "code",
   "execution_count": 1,
   "metadata": {},
   "outputs": [
    {
     "data": {
      "text/plain": [
       "True"
      ]
     },
     "execution_count": 1,
     "metadata": {},
     "output_type": "execute_result"
    }
   ],
   "source": [
    "from dotenv import load_dotenv\n",
    "load_dotenv()"
   ]
  },
  {
   "cell_type": "code",
   "execution_count": 2,
   "metadata": {},
   "outputs": [],
   "source": [
    "import os\n",
    "groq_api_key = os.getenv('GROQ_API_KEY')"
   ]
  },
  {
   "cell_type": "code",
   "execution_count": 3,
   "metadata": {},
   "outputs": [
    {
     "data": {
      "text/plain": [
       "'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'"
      ]
     },
     "execution_count": 3,
     "metadata": {},
     "output_type": "execute_result"
    }
   ],
   "source": [
    "groq_api_key"
   ]
  },
  {
   "cell_type": "code",
   "execution_count": 6,
   "metadata": {},
   "outputs": [
    {
     "data": {
      "text/plain": [
       "ChatGroq(client=<groq.resources.chat.completions.Completions object at 0x000001F859E3BC70>, async_client=<groq.resources.chat.completions.AsyncCompletions object at 0x000001F859E79120>, model_name='gemma2-9b-it', model_kwargs={}, groq_api_key=SecretStr('**********'))"
      ]
     },
     "execution_count": 6,
     "metadata": {},
     "output_type": "execute_result"
    }
   ],
   "source": [
    "from langchain_groq import ChatGroq\n",
    "\n",
    "model =ChatGroq(model=\"gemma2-9b-it\", groq_api_key = groq_api_key)\n",
    "model"
   ]
  },
  {
   "cell_type": "code",
   "execution_count": 7,
   "metadata": {},
   "outputs": [
    {
     "data": {
      "text/plain": [
       "AIMessage(content='Bonjour ! Comment allez-vous ?  \\n', additional_kwargs={}, response_metadata={'token_usage': {'completion_tokens': 11, 'prompt_tokens': 22, 'total_tokens': 33, 'completion_time': 0.02, 'prompt_time': 0.002159995, 'queue_time': 0.234352864, 'total_time': 0.022159995}, 'model_name': 'gemma2-9b-it', 'system_fingerprint': 'fp_10c08bf97d', 'finish_reason': 'stop', 'logprobs': None}, id='run-a6db70a4-3452-4932-9cda-5fdaa3f629aa-0', usage_metadata={'input_tokens': 22, 'output_tokens': 11, 'total_tokens': 33})"
      ]
     },
     "execution_count": 7,
     "metadata": {},
     "output_type": "execute_result"
    }
   ],
   "source": [
    "from langchain_core.messages import HumanMessage, SystemMessage\n",
    "\n",
    "messages = [\n",
    "    SystemMessage(content=\"Translate the following from English to French\"),\n",
    "    HumanMessage(content=\"Hello! How are you ?\")\n",
    "]\n",
    "\n",
    "model.invoke(messages)"
   ]
  },
  {
   "cell_type": "code",
   "execution_count": 9,
   "metadata": {},
   "outputs": [
    {
     "data": {
      "text/plain": [
       "AIMessage(content='హలో! మీరు ఎలా ఉన్నారు? (Halo! Meeru ela unnaru?) \\n\\n\\nLet me break it down:\\n\\n* **హలో** (Halo) = Hello\\n* **మీరు** (Meeru) = You\\n* **ఎలా** (Ela) = How\\n* **ఉన్నారు** (Unnaru) = Are \\n\\n\\nThis is a common and polite way to greet someone in Telugu. \\n', additional_kwargs={}, response_metadata={'token_usage': {'completion_tokens': 95, 'prompt_tokens': 22, 'total_tokens': 117, 'completion_time': 0.172727273, 'prompt_time': 0.002123515, 'queue_time': 0.234352434, 'total_time': 0.174850788}, 'model_name': 'gemma2-9b-it', 'system_fingerprint': 'fp_10c08bf97d', 'finish_reason': 'stop', 'logprobs': None}, id='run-008f75ee-702d-4125-bd29-7cc1dfdb652c-0', usage_metadata={'input_tokens': 22, 'output_tokens': 95, 'total_tokens': 117})"
      ]
     },
     "execution_count": 9,
     "metadata": {},
     "output_type": "execute_result"
    }
   ],
   "source": [
    "messages = [\n",
    "    SystemMessage(content=\"Translate the following from English to Telugu\"),\n",
    "    HumanMessage(content=\"Hello! How are you ?\")\n",
    "]\n",
    "\n",
    "response = model.invoke(messages)\n",
    "response"
   ]
  },
  {
   "cell_type": "code",
   "execution_count": 10,
   "metadata": {},
   "outputs": [
    {
     "data": {
      "text/plain": [
       "'హలో! మీరు ఎలా ఉన్నారు? (Halo! Meeru ela unnaru?) \\n\\n\\nLet me break it down:\\n\\n* **హలో** (Halo) = Hello\\n* **మీరు** (Meeru) = You\\n* **ఎలా** (Ela) = How\\n* **ఉన్నారు** (Unnaru) = Are \\n\\n\\nThis is a common and polite way to greet someone in Telugu. \\n'"
      ]
     },
     "execution_count": 10,
     "metadata": {},
     "output_type": "execute_result"
    }
   ],
   "source": [
    "from langchain_core.output_parsers import StrOutputParser\n",
    "parser = StrOutputParser()\n",
    "parser.invoke(response)\n"
   ]
  },
  {
   "cell_type": "code",
   "execution_count": 11,
   "metadata": {},
   "outputs": [
    {
     "data": {
      "text/plain": [
       "\"Hello! How are you?  in Telugu is:\\n\\n**హలో! మీరు ఎలా ఉన్నారు?** (Halo! Meeru ela unnaru?) \\n\\n\\nHere's a breakdown:\\n\\n* **హలో!** (Halo!) - Hello!\\n* **మీరు** (Meeru) - You (formal, plural or singular)\\n* **ఎలా** (Ela) - How\\n* **ఉన్నారు** (Unnaru) - Are (formal, plural or singular) \\n\\n\\n\\nLet me know if you have any other phrases you'd like translated!\\n\""
      ]
     },
     "execution_count": 11,
     "metadata": {},
     "output_type": "execute_result"
    }
   ],
   "source": [
    "# using LCEL chain the components\n",
    "chain=model | parser\n",
    "chain.invoke(messages)"
   ]
  },
  {
   "cell_type": "code",
   "execution_count": 12,
   "metadata": {},
   "outputs": [],
   "source": [
    "# using Prompt template\n",
    "\n",
    "from langchain_core.prompts import ChatPromptTemplate\n",
    "generic_template = \"Transulate the following into {language}\"\n",
    "prompt = ChatPromptTemplate.from_messages(\n",
    "    [\n",
    "        (\"system\", generic_template),\n",
    "        (\"user\", '\"{text}')\n",
    "    ]\n",
    ")"
   ]
  },
  {
   "cell_type": "code",
   "execution_count": 14,
   "metadata": {},
   "outputs": [
    {
     "data": {
      "text/plain": [
       "ChatPromptValue(messages=[SystemMessage(content='Transulate the following into Telugu', additional_kwargs={}, response_metadata={}), HumanMessage(content='\"Hello! How are you?', additional_kwargs={}, response_metadata={})])"
      ]
     },
     "execution_count": 14,
     "metadata": {},
     "output_type": "execute_result"
    }
   ],
   "source": [
    "result = prompt.invoke({\"language\":\"Telugu\", \"text\": \"Hello! How are you?\"})\n",
    "result"
   ]
  },
  {
   "cell_type": "code",
   "execution_count": 15,
   "metadata": {},
   "outputs": [
    {
     "data": {
      "text/plain": [
       "[SystemMessage(content='Transulate the following into Telugu', additional_kwargs={}, response_metadata={}),\n",
       " HumanMessage(content='\"Hello! How are you?', additional_kwargs={}, response_metadata={})]"
      ]
     },
     "execution_count": 15,
     "metadata": {},
     "output_type": "execute_result"
    }
   ],
   "source": [
    "result.to_messages()"
   ]
  },
  {
   "cell_type": "code",
   "execution_count": 17,
   "metadata": {},
   "outputs": [
    {
     "data": {
      "text/plain": [
       "'Here are a few ways to say \"Hello! How are you?\" in Telugu:\\n\\n**Formal:**\\n\\n* **\"నమస్తే! మీరు ఎలా ఉన్నారు?\"** (Namasthē! Meeru ela unnaru?)\\n\\n**Informal:**\\n\\n* **\"హలో! ఎలా ఉన్నావు?\"** (Halo! Ela unnaavu?) \\n* **\"ఏంటి? బాగో?\"** (Enthi? Bagō?)\\n\\n\\nThe most suitable translation depends on the context and your relationship with the person you\\'re addressing. \\n'"
      ]
     },
     "execution_count": 17,
     "metadata": {},
     "output_type": "execute_result"
    }
   ],
   "source": [
    "chain = prompt| model | parser\n",
    "chain.invoke({\"language\" : \"Telugu\", \"text\" : \"Hello! How are you?\"})"
   ]
  },
  {
   "cell_type": "code",
   "execution_count": null,
   "metadata": {},
   "outputs": [],
   "source": []
  }
 ],
 "metadata": {
  "kernelspec": {
   "display_name": "Python 3",
   "language": "python",
   "name": "python3"
  },
  "language_info": {
   "codemirror_mode": {
    "name": "ipython",
    "version": 3
   },
   "file_extension": ".py",
   "mimetype": "text/x-python",
   "name": "python",
   "nbconvert_exporter": "python",
   "pygments_lexer": "ipython3",
   "version": "3.10.0"
  }
 },
 "nbformat": 4,
 "nbformat_minor": 2
}
